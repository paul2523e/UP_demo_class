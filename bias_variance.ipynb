{
 "cells": [
  {
   "cell_type": "code",
   "execution_count": null,
   "metadata": {},
   "outputs": [],
   "source": []
  },
  {
   "cell_type": "code",
   "execution_count": 71,
   "metadata": {},
   "outputs": [
    {
     "data": {
      "application/vnd.jupyter.widget-view+json": {
       "model_id": "b61cf026a19a4176a10105d91875686c",
       "version_major": 2,
       "version_minor": 0
      },
      "text/plain": [
       "interactive(children=(IntSlider(value=17, description='degree', max=33, min=1), Output()), _dom_classes=('widg…"
      ]
     },
     "metadata": {},
     "output_type": "display_data"
    },
    {
     "data": {
      "text/plain": [
       "<function __main__.plot_polynomial_fit(degree)>"
      ]
     },
     "execution_count": 71,
     "metadata": {},
     "output_type": "execute_result"
    }
   ],
   "source": [
    "#%matplotlib inline\n",
    "import numpy as np\n",
    "import matplotlib.pyplot as plt\n",
    "from ipywidgets import interact\n",
    "\n",
    "def plot_polynomial_fit(degree):\n",
    "    # reproducibility:\n",
    "    np.random.seed(42)\n",
    "\n",
    "    #domain:\n",
    "    min_x,max_x = -1,1\n",
    "    n_points = 40\n",
    "    x = np.linspace(min_x, max_x, n_points)\n",
    "\n",
    "    # real function:\n",
    "    def fun(x):\n",
    "        return  x**2 + 0.4*x**3 +np.random.normal(0, 0.2, x.shape)\n",
    "    \n",
    "    # fits mapping:\n",
    "    fits_dict = {}\n",
    "    residuals_dict = {}\n",
    "    colors = []\n",
    "    # build fits:\n",
    "    degree_range = (1, 33, 1) #start,end and step\n",
    "\n",
    "    # Create plot\n",
    "    fig,axs = plt.subplots(1,2,figsize=(10, 6))\n",
    "\n",
    "    # iteract of ipywidgets includes last element but range doesnt\n",
    "    # which casues with range below to be a little ugly:\n",
    "    for deg in range(degree_range[0],degree_range[1]+1,degree_range[2]):   \n",
    "\n",
    "        y = fun(x)\n",
    "\n",
    "        # Fit polynomial\n",
    "        coeffs,residuals, rank, singular_values, rcond  = np.polyfit(x, y, deg,full=True)\n",
    "        poly_func= np.poly1d(coeffs)\n",
    "\n",
    "        #append new fit:\n",
    "        fits_dict[deg] = poly_func\n",
    "        residuals_dict[deg] = residuals\n",
    "        \n",
    "        if deg == degree:\n",
    "            colors.append('red')\n",
    "            #plot the given left side chart\n",
    "            axs[0].scatter(x, y, label='Noisy Data')\n",
    "            axs[0].plot(x, y, 'ro', label='True Function')\n",
    "            axs[0].plot(x, poly_func(x),'b--', label=f'Grado del polinomio {degree} Fit')\n",
    "            axs[0].set_title(f'Datos reales y ajuste del modelo ({degree})')\n",
    "            axs[0].set_ylabel('Y')\n",
    "        else:\n",
    "            colors.append('blue')\n",
    "\n",
    "\n",
    "    #plot the accuracies\n",
    "    axs[1].scatter(residuals_dict.keys(), residuals_dict.values(), color = colors, label='Error (entrenamiento)')\n",
    "    axs[1].axvline(x=degree, color='red', linestyle='--', label='error')\n",
    "    axs[1].set_xlabel('Complejidad del modelo')\n",
    "\n",
    "    fig.legend()\n",
    "    fig.tight_layout()\n",
    "\n",
    "    #accuracy_score()\n",
    "\n",
    "    #fig.show()\n",
    "\n",
    "# Create interaction\n",
    "interact(plot_polynomial_fit, degree=(1, 33, 1))"
   ]
  },
  {
   "cell_type": "markdown",
   "metadata": {},
   "source": []
  },
  {
   "cell_type": "code",
   "execution_count": null,
   "metadata": {},
   "outputs": [],
   "source": []
  },
  {
   "cell_type": "markdown",
   "metadata": {},
   "source": []
  },
  {
   "cell_type": "code",
   "execution_count": 34,
   "metadata": {},
   "outputs": [],
   "source": [
    "### What happens if i try to use that model with high variance for prediction?"
   ]
  },
  {
   "cell_type": "code",
   "execution_count": null,
   "metadata": {},
   "outputs": [],
   "source": []
  }
 ],
 "metadata": {
  "kernelspec": {
   "display_name": ".venv",
   "language": "python",
   "name": "python3"
  },
  "language_info": {
   "codemirror_mode": {
    "name": "ipython",
    "version": 3
   },
   "file_extension": ".py",
   "mimetype": "text/x-python",
   "name": "python",
   "nbconvert_exporter": "python",
   "pygments_lexer": "ipython3",
   "version": "3.10.12"
  }
 },
 "nbformat": 4,
 "nbformat_minor": 2
}
